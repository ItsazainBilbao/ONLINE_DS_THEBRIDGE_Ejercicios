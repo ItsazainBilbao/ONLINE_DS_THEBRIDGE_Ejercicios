{
 "cells": [
  {
   "cell_type": "markdown",
   "metadata": {},
   "source": [
    "![imagen](./img/ejercicios.png)"
   ]
  },
  {
   "cell_type": "markdown",
   "metadata": {},
   "source": [
    "# Ejercicios Flujos de control"
   ]
  },
  {
   "cell_type": "markdown",
   "metadata": {},
   "source": [
    "## Ejercicio 1\n",
    "Declara una variable numérica que será una hora cualquiera del día. Implementa la siguiente casuística:\n",
    "\n",
    "* Si es entre las 0 y las 8, print \"Durmiendo\"\n",
    "* Si es entre las 9 y las 18, print \"Trabajando\"\n",
    "* Si es entre las 19 y las 21, print \"Clase\"\n",
    "* Si es entre las 22 y las 24, print \"Descanso\"\n",
    "* En cualquier otro caso, print \"Transporte o error\""
   ]
  },
  {
   "cell_type": "code",
   "execution_count": 12,
   "metadata": {},
   "outputs": [
    {
     "name": "stdout",
     "output_type": "stream",
     "text": [
      "Introduce una hora: \n",
      "Metiste algo que no era una hora\n"
     ]
    }
   ],
   "source": [
    "print(\"Introduce una hora: \")\n",
    "hora = int(input());\n",
    "\n",
    "if(hora > 0 and hora < 24) :\n",
    "    if(hora <= 8) :\n",
    "        print(\"Durmiendo\")\n",
    "    elif(hora <= 18):\n",
    "        print(\"Trabajando\")\n",
    "    elif(hora <= 21):\n",
    "        print(\"Clase\")\n",
    "    elif(hora <= 24):\n",
    "        print(\"Descanso\")\n",
    "else :\n",
    "    print(\"Metiste algo que no era una hora\")"
   ]
  },
  {
   "cell_type": "code",
   "execution_count": null,
   "metadata": {},
   "outputs": [],
   "source": []
  },
  {
   "cell_type": "markdown",
   "metadata": {},
   "source": [
    "## Ejercicio 2\n",
    "En este ejercicio vamos a implementar un calculador de precios de casas muy sencillo. Tenemos las siguientes variables:\n",
    "\n",
    "> superficie\n",
    ">\n",
    "> distrito\n",
    "\n",
    "Implementa la siguiente casuística:\n",
    "\n",
    "1. Si el distrito es \"Moncloa\" o \"Centro\", y además la superficie es superior a 100 metros cuadrados, el precio de la casa es de 1000\n",
    "2. Si el distrito es \"Salamanca\", y además la superficie de la casa es al menos de 150 metros, el precio de la casa es de 1500\n",
    "3. Si el distrito no es \"Retiro\" y la superficie está entre 60 y 80 metros, el precio es de 600\n",
    "4. En cualquier otro caso, el precio será de 0"
   ]
  },
  {
   "cell_type": "code",
   "execution_count": 13,
   "metadata": {},
   "outputs": [
    {
     "name": "stdout",
     "output_type": "stream",
     "text": [
      "Primero, introduce el distrito (Moncloa, Centro, Salamanca, Retiro...\n",
      "Ahora añade los metros cuadrados del inmueble: \n",
      "El metro cuadrado te sale a 600€ en total la finca cuesta 45000€\n"
     ]
    }
   ],
   "source": [
    "def pedirDatos():    \n",
    "    print(\"Primero, introduce el distrito (Moncloa, Centro, Salamanca, Retiro...\")\n",
    "    distrito = input().lower()\n",
    "    print(\"Ahora añade los metros cuadrados del inmueble: \")\n",
    "    superficie =int(input())\n",
    "    return distrito, superficie\n",
    "\n",
    "pedido = pedirDatos()\n",
    "\n",
    "distrito, superficie = pedido[0], pedido[1]\n",
    "\n",
    "if((distrito == \"moncloa\" or distrito == \"centro\") and superficie >= 100):\n",
    "    print(f\"El metro cuadrado te sale a 1000€, la finca te cuesta {superficie*1000}€\")\n",
    "elif(distrito == \"salamanca\" and superficie >= 150):\n",
    "    print(f\"El metro cuadrado te sale a 1500€, el inmueble te cuesta {superficie*150}€\")\n",
    "elif(distrito != \"retiro\" and (superficie >= 60 and superficie <= 80)):\n",
    "    print(f\"El metro cuadrado te sale a 600€ en total la finca cuesta {600*superficie}€\")\n",
    "else:\n",
    "    print(\"El metro cuadrado te sale a 0€, ya puedes especular con el ladrillo\")"
   ]
  },
  {
   "cell_type": "code",
   "execution_count": null,
   "metadata": {},
   "outputs": [],
   "source": [
    "\n"
   ]
  },
  {
   "cell_type": "markdown",
   "metadata": {},
   "source": [
    "## Ejercicio 3\n",
    "En este ejercicio vamos a realizar un programa muy parecido. Para este caso queremos que se cumplan las siguientes condiciones:\n",
    "\n",
    "1. Primero se compruebe si el distrito es \"Retiro\". Si es asá, que imprima \"Distrito Retiro\", y si no, \"Otro distrito\"\n",
    "2. Si el distrito es \"Retiro\", comprueba si la superficie es mayor de 100 metros cuadrados. En tal caso, que imprima un precio de 1000, y si no, de 500.\n",
    "\n",
    "Prueba a usar `ifs` anidados"
   ]
  },
  {
   "cell_type": "code",
   "execution_count": 14,
   "metadata": {},
   "outputs": [
    {
     "name": "stdout",
     "output_type": "stream",
     "text": [
      "Primero, introduce el distrito (Moncloa, Centro, Salamanca, Retiro...\n",
      "Ahora añade los metros cuadrados del inmueble: \n",
      "Distrito el Retiro\n",
      "El metro cuadrado está a 500\n"
     ]
    }
   ],
   "source": [
    "pedido = pedirDatos()\n",
    "\n",
    "distrito, superficie = pedido[0], pedido[1]\n",
    "\n",
    "if(distrito == \"retiro\"):\n",
    "    print(\"Distrito el Retiro\")\n",
    "    if(superficie > 100):\n",
    "        print(\"El metro cuadrado está a 1000€\")\n",
    "    else:\n",
    "        print(\"El metro cuadrado está a 500\")\n",
    "else:\n",
    "    print(\"El distrito es otro:\", distrito)\n",
    "\n"
   ]
  },
  {
   "cell_type": "code",
   "execution_count": null,
   "metadata": {},
   "outputs": [],
   "source": []
  },
  {
   "cell_type": "markdown",
   "metadata": {},
   "source": [
    "## Ejercicio 4\n",
    "Escribe un programa que tenga dos variables: un numero, y una lista numérica. El programa debe recorrer la lista e imprimir por pantalla cada elemento de la lista multiplicado por el número"
   ]
  },
  {
   "cell_type": "code",
   "execution_count": 15,
   "metadata": {},
   "outputs": [
    {
     "name": "stdout",
     "output_type": "stream",
     "text": [
      "2 multiplicado por 5 es igual a 10\n",
      "3 multiplicado por 5 es igual a 15\n",
      "5 multiplicado por 5 es igual a 25\n",
      "7 multiplicado por 5 es igual a 35\n",
      "11 multiplicado por 5 es igual a 55\n"
     ]
    }
   ],
   "source": [
    "multiplicador = 5\n",
    "listNums = [2,3,5,7,11]\n",
    "\n",
    "for num in listNums:\n",
    "    res = num*multiplicador\n",
    "    print(f\"{num} multiplicado por {multiplicador} es igual a {res}\")\n",
    "\n"
   ]
  },
  {
   "cell_type": "code",
   "execution_count": null,
   "metadata": {},
   "outputs": [],
   "source": [
    "\n"
   ]
  },
  {
   "cell_type": "code",
   "execution_count": null,
   "metadata": {},
   "outputs": [],
   "source": []
  },
  {
   "cell_type": "code",
   "execution_count": null,
   "metadata": {},
   "outputs": [],
   "source": []
  },
  {
   "cell_type": "code",
   "execution_count": null,
   "metadata": {},
   "outputs": [],
   "source": []
  },
  {
   "cell_type": "markdown",
   "metadata": {},
   "source": [
    "## Ejercicio 5\n",
    "Imprime por pantalla cada número del -10 al -1. En ese orden. Consulta [la documentación](https://www.w3schools.com/python/ref_func_range.asp) de `range`"
   ]
  },
  {
   "cell_type": "code",
   "execution_count": 24,
   "metadata": {},
   "outputs": [
    {
     "name": "stdout",
     "output_type": "stream",
     "text": [
      "-10\n",
      "-9\n",
      "-8\n",
      "-7\n",
      "-6\n",
      "-5\n",
      "-4\n",
      "-3\n",
      "-2\n",
      "-1\n"
     ]
    }
   ],
   "source": [
    "listanums = range(10)\n",
    "for num in listanums:\n",
    "    print(num - 10)"
   ]
  },
  {
   "cell_type": "code",
   "execution_count": null,
   "metadata": {},
   "outputs": [],
   "source": []
  },
  {
   "cell_type": "code",
   "execution_count": null,
   "metadata": {},
   "outputs": [],
   "source": []
  },
  {
   "cell_type": "markdown",
   "metadata": {},
   "source": [
    "## Ejercicio 6\n",
    "Dada la siguiente lista:\n",
    "\n",
    "> list1 = [12, 15, 32, 42, 55, 75, 122, 132, 150, 180, 200]\n",
    "\n",
    "Implementa un programa que los recorra e imprima por pantalla todos los divisibles por 5. Si nos encontramos con alguno que sea mayor que 150, detener el bucle."
   ]
  },
  {
   "cell_type": "code",
   "execution_count": 31,
   "metadata": {},
   "outputs": [
    {
     "name": "stdout",
     "output_type": "stream",
     "text": [
      "15 es divisible entre 5\n",
      "55 es divisible entre 5\n",
      "75 es divisible entre 5\n",
      "150 es mayor a 150\n"
     ]
    }
   ],
   "source": [
    "list1 = [12,15,32,42,55,75,122,150,180,200]\n",
    "\n",
    "for num in list1:    \n",
    "    if(num < 150):\n",
    "        if(num % 5 == 0):\n",
    "            print(f\"{num} es divisible entre 5\")\n",
    "    else:\n",
    "        print(f\"{num} es mayor a 150\")\n",
    "        break;\n",
    "\n",
    "    "
   ]
  },
  {
   "attachments": {},
   "cell_type": "markdown",
   "metadata": {},
   "source": [
    "## Ejercicio 7\n",
    "Escribe un programa en Python que imprima por pantalla todos los números que cumplan que sean divisibles por 5 y divisibles por 7, dentro del rango de valores (150, 350)."
   ]
  },
  {
   "cell_type": "code",
   "execution_count": 32,
   "metadata": {},
   "outputs": [
    {
     "name": "stdout",
     "output_type": "stream",
     "text": [
      "175 es divisible entre 5 y 7\n",
      "210 es divisible entre 5 y 7\n",
      "245 es divisible entre 5 y 7\n",
      "280 es divisible entre 5 y 7\n",
      "315 es divisible entre 5 y 7\n",
      "350 es divisible entre 5 y 7\n"
     ]
    }
   ],
   "source": [
    "listaNums = range(150, 351)\n",
    "\n",
    "for num in listaNums:\n",
    "    if((num % 5 == 0) and (num % 7 == 0)):\n",
    "        print(f\"{num} es divisible entre 5 y 7\")\n"
   ]
  },
  {
   "cell_type": "markdown",
   "metadata": {},
   "source": [
    "## Ejercicio 8\n",
    "Implementa un programa que imprima por pantalla el siguiente patrón\n",
    "\n",
    "5 4 3 2 1 \n",
    "\n",
    "4 3 2 1 \n",
    "\n",
    "3 2 1 \n",
    "\n",
    "2 1 \n",
    "\n",
    "1\n",
    "\n",
    "NOTA: NO hay lineas en blanco entre una línea y otra."
   ]
  },
  {
   "cell_type": "code",
   "execution_count": 42,
   "metadata": {},
   "outputs": [
    {
     "name": "stdout",
     "output_type": "stream",
     "text": [
      "54321\n",
      "4321\n",
      "321\n",
      "21\n",
      "1\n"
     ]
    }
   ],
   "source": [
    "listaNums = [5,4,3,2,1]\n",
    "\n",
    "while(len(listaNums) > 0):\n",
    "    for num in listaNums:\n",
    "        print(num, end=\"\")      \n",
    "    listaNums.pop(0)  \n",
    "    print(\"\")\n",
    "\n"
   ]
  },
  {
   "cell_type": "code",
   "execution_count": null,
   "metadata": {},
   "outputs": [],
   "source": []
  },
  {
   "cell_type": "code",
   "execution_count": null,
   "metadata": {},
   "outputs": [],
   "source": []
  },
  {
   "cell_type": "code",
   "execution_count": null,
   "metadata": {},
   "outputs": [],
   "source": []
  },
  {
   "cell_type": "markdown",
   "metadata": {},
   "source": [
    "## Ejercicio 9\n",
    "En este ejercicio vamos a crear un pequeño juego. Se trata de intentar adivinar un numero del 1 al 5. Tenemos dos intentos para acertar. Pasos a seguir:\n",
    "\n",
    "1. Ya viene implementado con la librería `random` cómo obtener un número aleatorio del 1 al 5\n",
    "2. Tendrás que declarar en una variable el numero de vidas, y mediante un bucle while, comprobar que todavia quedan vidas.\n",
    "3. Dentro del bucle, obtener el valor del usuario y comprobar si es ese el numero a adivinar. Si no, actualizar las vidas.\n",
    "4. Si acertamos, salimos del bucle e imprimimos por pantalla \"You win\". Y si perdemos también salimos del bucle, pero en este caso imprimimos por pantalla \"You lose\".\n",
    "\n",
    "TIP: te puede resultar útil usar la sentencia `else` cuando acabe el bucle `while`. Lo que haya dentro de ese `else` se ejecutará una vez acabe la ejecución del `while`. Lo podrás usar para cuando pierdas."
   ]
  },
  {
   "cell_type": "code",
   "execution_count": 48,
   "metadata": {},
   "outputs": [
    {
     "name": "stdout",
     "output_type": "stream",
     "text": [
      "Adivina el número secreto entre 1 y 5: \n",
      " debug:  3 2\n",
      "Tu número 4 no es el número a adivinar\n",
      "Te queda una vida\n",
      "Puedes volver a intentarlo\n",
      "Adivina el número secreto entre 1 y 5: \n",
      " debug:  3 1\n",
      "Tu número 4 no es el número a adivinar\n",
      "Te quedan 0 vidas\n",
      "Te has quedado sin vidas, has perdido.\n"
     ]
    }
   ],
   "source": [
    "import random\n",
    "randomNumber = int(random.randrange(1,5))\n",
    "\n",
    "vidas = 2\n",
    "\n",
    "while(vidas > 0):\n",
    "    print(\"Adivina el número secreto entre 1 y 5: \\n debug: \", randomNumber, vidas)\n",
    "    valor = int(input())\n",
    "    if(valor == randomNumber):\n",
    "        print(f\"Eres la hostia, has introducido {valor} y el número a adivina era {randomNumber}\")\n",
    "        print(\"CONFETI\")\n",
    "        break;\n",
    "    else:        \n",
    "        print(f\"Tu número {valor} no es el número a adivinar\")\n",
    "        vidas = vidas - 1\n",
    "        if(vidas == 1):\n",
    "            print(f\"Te queda una vida\")\n",
    "        else:\n",
    "            print(f\"Te quedan {vidas} vidas\")\n",
    "        if( vidas > 0) :   \n",
    "            print(\"Puedes volver a intentarlo\")\n",
    "else:\n",
    "    print(\"Te has quedado sin vidas, has perdido.\")\n"
   ]
  },
  {
   "cell_type": "code",
   "execution_count": null,
   "metadata": {},
   "outputs": [],
   "source": []
  },
  {
   "cell_type": "code",
   "execution_count": null,
   "metadata": {},
   "outputs": [],
   "source": []
  },
  {
   "cell_type": "code",
   "execution_count": null,
   "metadata": {},
   "outputs": [],
   "source": []
  },
  {
   "cell_type": "code",
   "execution_count": null,
   "metadata": {},
   "outputs": [],
   "source": []
  },
  {
   "cell_type": "code",
   "execution_count": null,
   "metadata": {},
   "outputs": [],
   "source": []
  }
 ],
 "metadata": {
  "kernelspec": {
   "display_name": "Python 3",
   "language": "python",
   "name": "python3"
  },
  "language_info": {
   "codemirror_mode": {
    "name": "ipython",
    "version": 3
   },
   "file_extension": ".py",
   "mimetype": "text/x-python",
   "name": "python",
   "nbconvert_exporter": "python",
   "pygments_lexer": "ipython3",
   "version": "3.11.9"
  }
 },
 "nbformat": 4,
 "nbformat_minor": 4
}
