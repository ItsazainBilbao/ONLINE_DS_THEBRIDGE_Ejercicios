{
 "cells": [
  {
   "cell_type": "markdown",
   "metadata": {},
   "source": [
    "![imagen](./img/ejercicios.png)\n",
    "\n",
    "# Ejercicios Clases y Objetos"
   ]
  },
  {
   "attachments": {},
   "cell_type": "markdown",
   "metadata": {},
   "source": [
    "## Ejercicio 1\n",
    "Somos una empresa que tiene varias tiendas de electrodomésticos. Necesitamos un programa para manejar las tiendas, ver las ventas que han tenido, cuántos empleados hay, etc... Para ello vamos a modelizar la tienda en una clase, que tendrá las siguientes características:\n",
    "* Nombre clase: \"Tienda\"\n",
    "* Atributos comunes:\n",
    "    * Tipo: \"Electrodomésticos\"\n",
    "    * Abierta: True\n",
    "* Atributos propios de cada tienda:\n",
    "    * Nombre - String\n",
    "    * Dirección - String\n",
    "    * Número de empleados - int\n",
    "    * Ventas últimos 3 meses - Lista de 3 numeros\n",
    "* Método para calcular las ventas de todos los meses, que devuelva un número con todas las ventas.\n",
    "* Método que calcula la media de ventas de los últimos meses, por empleado\n",
    "* Método que devuelve en un string el nombre de la tienda, junto con su dirección.\n",
    "* Método que obtiene las ventas del último mes.\n",
    "* Método para dar una proyección de las ventas en caso de haber invertido X dinero en marketing en esa tienda. Siendo X el parámetro de entrada. Si X es menor de 1000, las ventas de los ultimos 3 meses hubiesen sido de (1.2 x ventas), si es mayor o igual de 1000, las ventas hubiesen sido de (1.5 x venta). El método reescribe el atributo de ventas en los últimos 3 meses, y además devuelve las ventas con el aumento.\n",
    "\n",
    "Se pide:\n",
    "1. Implementar la clase \"Tienda\"\n",
    "2. Crear tres tiendas con datos inventados\n",
    "3. Comprueba en al menos una de ellas, todo lo implementado en la clase tienda (sus atributos, media de ventas, ventas/empleado...)\n",
    "3. Calcular las ventas del último mes de todas las tiendas. Para ello usa el bucle `for`\n",
    "4. Imprime por pantalla los nombres de las tiendas cuya dirección lleve el string \"Avenida\"\n",
    "5. Seguro que ya has hecho este apartado... Documenta la clase :)"
   ]
  },
  {
   "cell_type": "code",
   "execution_count": null,
   "metadata": {},
   "outputs": [],
   "source": [
    "class Tienda:\n",
    "    '''\n",
    "    Clase Tienda de electrodomésticos\n",
    "    '''\n",
    "    Tipo = \"Electrodomésticos\"\n",
    "    abierto = True\n",
    "\n",
    "    ##Constructor de la clase\n",
    "    def __init__(self, nombre:str, direccion:str, numEmpleados:int, ventas:list):\n",
    "        self.nombre = nombre\n",
    "        self.direccion = direccion\n",
    "        self.numEmpleados = numEmpleados\n",
    "        self.ventas = ventas        \n",
    "    \n",
    "    #Métodos de la clase\n",
    "\n",
    "    #Calcula las ventas de los últimos 3 meses sumándolos\n",
    "    def calcular_Ventas(self):\n",
    "        return sum(self.ventas)\n",
    "    #Calcula las ventas por empleados, dividiendo las ventas de los últimos 3 meses entre el total de empleados\n",
    "    def calcular_Ventas_Por_Empleado(self):\n",
    "        return (self.calcular_Ventas()/self.numEmpleados)\n",
    "    #Imprime por pantalla el nombre y dirección de la tienda.\n",
    "    def identificacion(self):\n",
    "        print(f\"{self.nombre}, {self.direccion}\")\n",
    "    #Devuelve el valor de venta del último mes\n",
    "    def ventas_Ultimo_Mes(self):\n",
    "        return self.ventas[-1]\n",
    "    #Dada una inversión imprime por pantalla la proyección y los beneficios futuros\n",
    "    def proyeccion_ventas(self, inversion):\n",
    "        if(inversion < 1000):\n",
    "            print(\"Las ventas serían de un x1.2, lo que significa que habrían sido de \", (1.2*self.calcular_Ventas()))\n",
    "        else:\n",
    "            print(\"Las ventas serían de un x1.5, lo que significa que habrían sido de \", (1.5*self.calcular_Ventas()))\n",
    "            \n",
    "    \n",
    "        \n",
    "\n",
    "\n"
   ]
  },
  {
   "cell_type": "code",
   "execution_count": null,
   "metadata": {},
   "outputs": [],
   "source": [
    "#Creación de tres objetos tipo Tienda empleando el constructor\n",
    "tienda1 = Tienda(\"Luces Paco y hermano\", \"Calle del Horno\", 14, [3000, 2000, 5000])\n",
    "tienda2 = Tienda(\"Calefacciones Carmen\", \"Avenida Revenida\", 3, [1500, 2500, 600])\n",
    "tienda3 = Tienda(\"Televisores Viente S.L.\", \"Plaza Chica\", 5, [4000, 6000, 7000])\n"
   ]
  },
  {
   "cell_type": "code",
   "execution_count": null,
   "metadata": {},
   "outputs": [
    {
     "name": "stdout",
     "output_type": "stream",
     "text": [
      "Electrodomésticos\n",
      "Luces Paco y hermano, Calle del Horno\n",
      "Trabajan 14 personas y han facturado 10000 en los últimos tres meses. [3000, 2000, 5000] Por cada mes y una media de 714.2857142857143€ ganados por empleado.\n",
      "El último mes se facturaron 5000€ y una inversión de 300€\n",
      "Las ventas serían de un x1.2, lo que significa que habrían sido de  12000.0\n"
     ]
    }
   ],
   "source": [
    "#Imprimimos por pantalla todos los datos de tienda1 para comprobar que todos los métodos funcionan\n",
    "print(f\"{tienda1.Tipo}\")\n",
    "tienda1.identificacion()\n",
    "print(f\"Trabajan {tienda1.numEmpleados} personas y han facturado {tienda1.calcular_Ventas()} en los últimos tres meses. {tienda1.ventas} \\\n",
    "Por cada mes y una media de {tienda1.calcular_Ventas_Por_Empleado()}€ ganados por empleado.\\\n",
    "\\nEl último mes se facturaron {tienda1.ventas_Ultimo_Mes()}€ y una inversión de 300€\")\n",
    "tienda1.proyeccion_ventas(300)"
   ]
  },
  {
   "cell_type": "code",
   "execution_count": null,
   "metadata": {},
   "outputs": [
    {
     "name": "stdout",
     "output_type": "stream",
     "text": [
      "Luces Paco y hermano, Calle del Horno\n",
      "ventas último mes: 5000€\n",
      "Calefacciones Carmen, Avenida Revenida\n",
      "ventas último mes: 600€\n",
      "Televisores Viente S.L., Plaza Chica\n",
      "ventas último mes: 7000€\n"
     ]
    }
   ],
   "source": [
    "#Añadimos todas las tiendas a una misma lista\n",
    "listaTiendas = [tienda1, tienda2, tienda3]\n",
    "#Recorremos la lista de tiendas y se imprime la identificación y las ventas del último mes de cada una\n",
    "for tienda in listaTiendas:\n",
    "    tienda.identificacion()\n",
    "    print(f\"ventas último mes: {tienda.ventas_Ultimo_Mes()}€\")"
   ]
  },
  {
   "cell_type": "code",
   "execution_count": null,
   "metadata": {},
   "outputs": [
    {
     "name": "stdout",
     "output_type": "stream",
     "text": [
      "Calefacciones Carmen, Avenida Revenida\n"
     ]
    }
   ],
   "source": [
    "#Se recorre la lista\n",
    "for tienda in listaTiendas:\n",
    "    dirs = tienda.direccion.split() #dividimos la dirección por palabras\n",
    "    for word in dirs: #se recorre la dirección conertida en una lista de strings\n",
    "        if(word.lower() == \"avenida\"): #se compara cada palabra con \"avenida\"\n",
    "            tienda.identificacion() #si existe coincidencia se imprime la identificación de la tienda\n",
    "            \n"
   ]
  },
  {
   "cell_type": "code",
   "execution_count": null,
   "metadata": {},
   "outputs": [],
   "source": []
  },
  {
   "cell_type": "code",
   "execution_count": 18,
   "metadata": {},
   "outputs": [],
   "source": []
  },
  {
   "cell_type": "code",
   "execution_count": null,
   "metadata": {},
   "outputs": [],
   "source": []
  },
  {
   "cell_type": "code",
   "execution_count": null,
   "metadata": {},
   "outputs": [],
   "source": []
  },
  {
   "cell_type": "code",
   "execution_count": null,
   "metadata": {},
   "outputs": [],
   "source": []
  },
  {
   "cell_type": "code",
   "execution_count": null,
   "metadata": {},
   "outputs": [],
   "source": []
  },
  {
   "cell_type": "code",
   "execution_count": null,
   "metadata": {},
   "outputs": [],
   "source": []
  },
  {
   "cell_type": "markdown",
   "metadata": {},
   "source": [
    "## Ejercicio 2\n",
    "En este ejercicio vamos a implementar una clase *Perro* en Python. La clase tiene las siguientes características:\n",
    "* Cosas que sabemos seguro que tiene un perro\n",
    "    * Tiene 4 patas\n",
    "    * 2 orejas\n",
    "    * 2 ojos\n",
    "    * Una velocidad de 0. Por defecto, el perro está parado\n",
    "* Cuando se inicialice:\n",
    "    * El perro será de una determinada raza\n",
    "    * Por defecto tendrá pelo \"Marrón\", a no ser que se diga lo contrario.\n",
    "    * Por defecto no tendrá dueño, a no ser que se diga lo contrario.\n",
    "    \n",
    "* Dispondrá también de un método llamado andar, que tiene un argumento de entrada (aumento_velocidad). Este valor se le sumará a la velocidad que ya llevaba el perro.\n",
    "* Necesita otro método (parar), donde pondremos la velocidad a 0.\n",
    "* Otro método llamado \"ladrar\", que tendrá un argumento de entrada, y la salida será el siguiente string: \"GUAU!\" + el argumento de entrada.\n",
    "\n",
    "\n",
    "Se pide:\n",
    "* Implementa la clase *Perro*\n",
    "* Crea un objeto de tipo *Perro*, sin dueño\n",
    "* Comprueba que están bien todos sus atributos\n",
    "* Prueba que ande, y comprueba su velocidad\n",
    "* Páralo\n",
    "* Documenta la clase *Perro*"
   ]
  },
  {
   "cell_type": "code",
   "execution_count": 51,
   "metadata": {},
   "outputs": [],
   "source": [
    "class Perro:\n",
    "    '''\n",
    "    Clase perro que supongo sirve para definir lo que es un perro\n",
    "    dentro del paradigma aristotélico sobre lo que es un perro\n",
    "    es decir, una criatura de 4 patas, 2 orejas, 2 ojos e imperturbable en el vacío\n",
    "    '''    \n",
    "    _patas = 4\n",
    "    _orejas = 2\n",
    "    _ojos = 2\n",
    "    _velocidad = 0\n",
    "\n",
    "    #Constructor de la clase Perro con dos variables con un valor por defecto\n",
    "    def __init__(self, raza : str, color = \"marron\", dueño = \"ninguno\"):\n",
    "        self.raza = raza\n",
    "        self.color = color\n",
    "        self.dueño = dueño\n",
    "    #Método que suma el argumento dado velocidad a la velocidad base de la clase perro\n",
    "    def andar(self, velocidad : int):\n",
    "        self._velocidad += velocidad\n",
    "    #Método que vuelve el atributo de velocidad a 0\n",
    "    def parar(self):\n",
    "        self._velocidad = 0\n",
    "    #Método que devuelve un string dado el argumento ladrido que se suma a un GUAU! muy expresivo\n",
    "    def ladrar(self, ladrido):\n",
    "        return \"GUAU! \" + ladrido\n",
    "    "
   ]
  },
  {
   "cell_type": "code",
   "execution_count": 52,
   "metadata": {},
   "outputs": [],
   "source": [
    "#Implementación de la clase Perro. Color y dueño por defecto\n",
    "gustavo = Perro(\"Labrador\")\n",
    "\n"
   ]
  },
  {
   "cell_type": "code",
   "execution_count": 53,
   "metadata": {},
   "outputs": [
    {
     "name": "stdout",
     "output_type": "stream",
     "text": [
      "Gustavo es un Labrador marron\n",
      "Tiene 4 patas, 2 ojos y 2 orejas\n",
      "su dueño es 'ninguno'\n"
     ]
    }
   ],
   "source": [
    "#Comprobamos atributos\n",
    "print(f\"Gustavo es un {gustavo.raza} {gustavo.color}\\n\\\n",
    "Tiene {gustavo._patas} patas, {gustavo._ojos} ojos y {gustavo._orejas} orejas\\n\\\n",
    "su dueño es '{gustavo.dueño}'\")"
   ]
  },
  {
   "cell_type": "code",
   "execution_count": 57,
   "metadata": {},
   "outputs": [
    {
     "name": "stdout",
     "output_type": "stream",
     "text": [
      "Velocidad:  0\n",
      "Ahora hacemos que ande con velocidad de 5\n",
      "Velocidad:  5\n",
      "Ahora sumaremos 2 veces más 5\n",
      "Velocidad:  15\n"
     ]
    }
   ],
   "source": [
    "#Probamos que nada implementando la funcionalidad de los métodos\n",
    "#Creamos la variable vel para poder cambiarla luego y ver que funciona con cualquier valor entero\n",
    "vel = 5\n",
    "print(\"Velocidad: \", gustavo._velocidad)\n",
    "print(f\"Ahora hacemos que ande con velocidad de {vel}\")\n",
    "gustavo.andar(vel)\n",
    "print(\"Velocidad: \", gustavo._velocidad)\n",
    "print(f\"Ahora sumaremos 2 veces más {vel}\")\n",
    "gustavo.andar(2*vel)\n",
    "print(\"Velocidad: \", gustavo._velocidad)"
   ]
  },
  {
   "cell_type": "code",
   "execution_count": 58,
   "metadata": {},
   "outputs": [
    {
     "name": "stdout",
     "output_type": "stream",
     "text": [
      "Velocidad:  0\n"
     ]
    }
   ],
   "source": [
    "#Funcionalidad del método Parar\n",
    "gustavo.parar()\n",
    "print(\"Velocidad: \", gustavo._velocidad)"
   ]
  }
 ],
 "metadata": {
  "kernelspec": {
   "display_name": "Python 3",
   "language": "python",
   "name": "python3"
  },
  "language_info": {
   "codemirror_mode": {
    "name": "ipython",
    "version": 3
   },
   "file_extension": ".py",
   "mimetype": "text/x-python",
   "name": "python",
   "nbconvert_exporter": "python",
   "pygments_lexer": "ipython3",
   "version": "3.11.9"
  }
 },
 "nbformat": 4,
 "nbformat_minor": 4
}
